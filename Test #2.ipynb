{
 "cells": [
  {
   "cell_type": "code",
   "execution_count": 165,
   "metadata": {},
   "outputs": [],
   "source": [
    "import pandas as pd\n",
    "import numpy as np\n",
    "\n",
    "import matplotlib.pyplot as plt\n",
    "%matplotlib inline\n",
    "\n",
    "from sklearn.model_selection import train_test_split\n",
    "from sklearn.metrics import classification_report, accuracy_score, roc_curve, auc\n",
    "from sklearn import svm, tree, ensemble, neural_network\n",
    "\n",
    "from datetime import datetime"
   ]
  },
  {
   "cell_type": "code",
   "execution_count": 251,
   "metadata": {},
   "outputs": [],
   "source": [
    "def build_roc_curve(false_positive_rate, true_positive_rate, roc_auc):\n",
    "    plt.title('Receiver Operating Characteristic')\n",
    "    plt.plot(false_positive_rate, true_positive_rate, 'b',\n",
    "    label='AUC = %0.2f'% roc_auc)\n",
    "    plt.legend(loc='lower right')\n",
    "    plt.plot([0,1],[0,1],'r--')\n",
    "    plt.xlim([-0.1,1.2])\n",
    "    plt.ylim([-0.1,1.2])\n",
    "    plt.ylabel('True Positive Rate')\n",
    "    plt.xlabel('False Positive Rate')\n",
    "    plt.show()"
   ]
  },
  {
   "cell_type": "code",
   "execution_count": 97,
   "metadata": {},
   "outputs": [],
   "source": [
    "def convertToDate(x):\n",
    "    return datetime.fromtimestamp(int(x))\n",
    "\n",
    "df = pd.read_csv('train_ds.csv',\n",
    "                   sep=',', header=0,\n",
    "                   names=['cgsettlementbufferid', 'amount', 'mcc', \n",
    "#                           'tranccy', 'ccy',\n",
    "                          'location', 'trandatetime', 'sexid', 'clientid'],\n",
    "                   converters = {'trandatetime': convertToDate},\n",
    "                   dtype={'sexid': np.bool_,\n",
    "                          'cgsettlementbufferid': np.int32,\n",
    "                          'mcc': np.int32,\n",
    "                          'ccy': np.int32,\n",
    "                          'amount': np.int32,\n",
    "                          'tranccy': np.int32,\n",
    "                          'clientid': np.int32,\n",
    "                          'location': np.string_\n",
    "                         },\n",
    "                  )"
   ]
  },
  {
   "cell_type": "code",
   "execution_count": 103,
   "metadata": {
    "scrolled": false
   },
   "outputs": [
    {
     "name": "stdout",
     "output_type": "stream",
     "text": [
      "<class 'pandas.core.frame.DataFrame'>\n",
      "MultiIndex: 92700 entries, (1, 4131) to (147555, 5541)\n",
      "Data columns (total 8 columns):\n",
      "cgsettlementbufferid    92700 non-null int32\n",
      "amount                  92700 non-null int32\n",
      "mcc                     92700 non-null int32\n",
      "location                92700 non-null object\n",
      "trandatetime            92700 non-null datetime64[ns]\n",
      "sexid                   92700 non-null bool\n",
      "clientid                92700 non-null int32\n",
      "Day_Time                92700 non-null int64\n",
      "dtypes: bool(1), datetime64[ns](1), int32(4), int64(1), object(1)\n",
      "memory usage: 4.9+ MB\n"
     ]
    }
   ],
   "source": [
    "df.info()"
   ]
  },
  {
   "cell_type": "code",
   "execution_count": 186,
   "metadata": {},
   "outputs": [
    {
     "data": {
      "text/html": [
       "<div>\n",
       "<style scoped>\n",
       "    .dataframe tbody tr th:only-of-type {\n",
       "        vertical-align: middle;\n",
       "    }\n",
       "\n",
       "    .dataframe tbody tr th {\n",
       "        vertical-align: top;\n",
       "    }\n",
       "\n",
       "    .dataframe thead th {\n",
       "        text-align: right;\n",
       "    }\n",
       "</style>\n",
       "<table border=\"1\" class=\"dataframe\">\n",
       "  <thead>\n",
       "    <tr style=\"text-align: right;\">\n",
       "      <th></th>\n",
       "      <th></th>\n",
       "      <th>cgsettlementbufferid</th>\n",
       "      <th>amount</th>\n",
       "      <th>mcc</th>\n",
       "      <th>location</th>\n",
       "      <th>trandatetime</th>\n",
       "      <th>sexid</th>\n",
       "      <th>clientid</th>\n",
       "      <th>Day_Time</th>\n",
       "      <th>region</th>\n",
       "    </tr>\n",
       "  </thead>\n",
       "  <tbody>\n",
       "    <tr>\n",
       "      <th>1</th>\n",
       "      <th>4131</th>\n",
       "      <td>978</td>\n",
       "      <td>980</td>\n",
       "      <td>6730</td>\n",
       "      <td>TRAMBESOS              SANT JOAN DES  ES</td>\n",
       "      <td>2013-12-02 11:49:22</td>\n",
       "      <td>True</td>\n",
       "      <td>13</td>\n",
       "      <td>1</td>\n",
       "      <td>ES</td>\n",
       "    </tr>\n",
       "    <tr>\n",
       "      <th>2</th>\n",
       "      <th>5651</th>\n",
       "      <td>978</td>\n",
       "      <td>980</td>\n",
       "      <td>55912</td>\n",
       "      <td>ZARA BARCELONA P GRACIABARCELONA      ES</td>\n",
       "      <td>2013-12-02 15:42:44</td>\n",
       "      <td>True</td>\n",
       "      <td>13</td>\n",
       "      <td>3</td>\n",
       "      <td>ES</td>\n",
       "    </tr>\n",
       "    <tr>\n",
       "      <th>3</th>\n",
       "      <th>5812</th>\n",
       "      <td>978</td>\n",
       "      <td>980</td>\n",
       "      <td>135658</td>\n",
       "      <td>CAFE DE L'ACADEMIA     BARCELONA      ES</td>\n",
       "      <td>2013-12-02 17:45:48</td>\n",
       "      <td>True</td>\n",
       "      <td>13</td>\n",
       "      <td>3</td>\n",
       "      <td>ES</td>\n",
       "    </tr>\n",
       "    <tr>\n",
       "      <th>4</th>\n",
       "      <th>5947</th>\n",
       "      <td>978</td>\n",
       "      <td>980</td>\n",
       "      <td>138294</td>\n",
       "      <td>2D BCN DISSENY EN BIJUTBARCELONA      ES</td>\n",
       "      <td>2013-12-02 17:59:39</td>\n",
       "      <td>True</td>\n",
       "      <td>13</td>\n",
       "      <td>3</td>\n",
       "      <td>ES</td>\n",
       "    </tr>\n",
       "    <tr>\n",
       "      <th>5</th>\n",
       "      <th>5651</th>\n",
       "      <td>978</td>\n",
       "      <td>980</td>\n",
       "      <td>426209</td>\n",
       "      <td>EL GANSO               BARCELONA      ES</td>\n",
       "      <td>2013-12-02 19:34:08</td>\n",
       "      <td>True</td>\n",
       "      <td>13</td>\n",
       "      <td>4</td>\n",
       "      <td>ES</td>\n",
       "    </tr>\n",
       "  </tbody>\n",
       "</table>\n",
       "</div>"
      ],
      "text/plain": [
       "        cgsettlementbufferid  amount     mcc  \\\n",
       "1 4131                   978     980    6730   \n",
       "2 5651                   978     980   55912   \n",
       "3 5812                   978     980  135658   \n",
       "4 5947                   978     980  138294   \n",
       "5 5651                   978     980  426209   \n",
       "\n",
       "                                        location        trandatetime  sexid  \\\n",
       "1 4131  TRAMBESOS              SANT JOAN DES  ES 2013-12-02 11:49:22   True   \n",
       "2 5651  ZARA BARCELONA P GRACIABARCELONA      ES 2013-12-02 15:42:44   True   \n",
       "3 5812  CAFE DE L'ACADEMIA     BARCELONA      ES 2013-12-02 17:45:48   True   \n",
       "4 5947  2D BCN DISSENY EN BIJUTBARCELONA      ES 2013-12-02 17:59:39   True   \n",
       "5 5651  EL GANSO               BARCELONA      ES 2013-12-02 19:34:08   True   \n",
       "\n",
       "        clientid  Day_Time region  \n",
       "1 4131        13         1     ES  \n",
       "2 5651        13         3     ES  \n",
       "3 5812        13         3     ES  \n",
       "4 5947        13         3     ES  \n",
       "5 5651        13         4     ES  "
      ]
     },
     "execution_count": 186,
     "metadata": {},
     "output_type": "execute_result"
    }
   ],
   "source": [
    "df.head()"
   ]
  },
  {
   "cell_type": "code",
   "execution_count": 104,
   "metadata": {
    "scrolled": true
   },
   "outputs": [],
   "source": [
    "user_info = df.drop_duplicates('clientid')[['sexid', 'clientid']]"
   ]
  },
  {
   "cell_type": "code",
   "execution_count": 112,
   "metadata": {},
   "outputs": [],
   "source": [
    "# Время суток, как новая feature\n",
    "\n",
    "def to_date_time_encoding(x):\n",
    "    if x.hour < 9:\n",
    "        return 0\n",
    "    elif x.hour < 12:\n",
    "        return 1\n",
    "    elif x.hour < 15:\n",
    "        return 2\n",
    "    elif x.hour < 18:\n",
    "        return 3\n",
    "    else:\n",
    "        return 4\n",
    "    \n",
    "df['Day_Time'] = df['trandatetime'].apply(to_date_time_encoding)"
   ]
  },
  {
   "cell_type": "code",
   "execution_count": 118,
   "metadata": {},
   "outputs": [],
   "source": [
    "# Регион, как новая feature\n",
    "\n",
    "df['region'] = df['location'].apply(lambda x: x[-2:])"
   ]
  },
  {
   "cell_type": "code",
   "execution_count": 218,
   "metadata": {},
   "outputs": [],
   "source": [
    "# One hot encoding для Времени суток, регионы\n",
    "\n",
    "d = pd.get_dummies(df[['Day_Time']], prefix=['d'], columns=['Day_Time'])\n",
    "d_names = list(filter(lambda x: x.startswith('d_'), d.columns.values.tolist()))\n",
    "\n",
    "r = pd.get_dummies(df[['region']], prefix=['r'], columns=['region'])\n",
    "r_names = list(filter(lambda x: x.startswith('r_'), r.columns.values.tolist()))"
   ]
  },
  {
   "cell_type": "code",
   "execution_count": 219,
   "metadata": {},
   "outputs": [],
   "source": [
    "combined = pd.concat([df[['clientid', 'amount']], d, r], axis=1)"
   ]
  },
  {
   "cell_type": "code",
   "execution_count": 241,
   "metadata": {},
   "outputs": [],
   "source": [
    "for name in d_names:\n",
    "    combined[name] = combined[[name, 'amount']].apply(lambda x: x[1] if x[0] == 1 else 0, axis=1)"
   ]
  },
  {
   "cell_type": "code",
   "execution_count": 242,
   "metadata": {},
   "outputs": [],
   "source": [
    "names = ['clientid', 'amount']\n",
    "\n",
    "names.extend(d_names)\n",
    "#names.extend(r_names)\n",
    "\n",
    "aggregation = {\n",
    "    'amount': ['sum', 'mean', 'max'],\n",
    "}\n",
    "\n",
    "for name in d_names:\n",
    "    aggregation[name] = ['sum', 'mean', 'max']\n",
    "    \n",
    "#for name in r_names:\n",
    "#    aggregation[name] = ['sum']\n",
    "\n",
    "grp = combined[names].groupby('clientid').agg(aggregation).reset_index()"
   ]
  },
  {
   "cell_type": "code",
   "execution_count": 243,
   "metadata": {},
   "outputs": [
    {
     "name": "stderr",
     "output_type": "stream",
     "text": [
      "F:\\Anaconda3\\lib\\site-packages\\pandas\\core\\reshape\\merge.py:543: UserWarning: merging between different levels can give an unintended result (1 levels on the left, 2 on the right)\n",
      "  warnings.warn(msg, UserWarning)\n",
      "F:\\Anaconda3\\lib\\site-packages\\pandas\\core\\generic.py:3108: PerformanceWarning: dropping on a non-lexsorted multi-index without a level parameter may impact performance.\n",
      "  obj = obj._drop_axis(labels, axis, level=level, errors=errors)\n"
     ]
    }
   ],
   "source": [
    "user_info_new = pd.merge(user_info, grp, on=['clientid', 'clientid'], how='right')"
   ]
  },
  {
   "cell_type": "code",
   "execution_count": 244,
   "metadata": {},
   "outputs": [
    {
     "data": {
      "text/html": [
       "<div>\n",
       "<style scoped>\n",
       "    .dataframe tbody tr th:only-of-type {\n",
       "        vertical-align: middle;\n",
       "    }\n",
       "\n",
       "    .dataframe tbody tr th {\n",
       "        vertical-align: top;\n",
       "    }\n",
       "\n",
       "    .dataframe thead th {\n",
       "        text-align: right;\n",
       "    }\n",
       "</style>\n",
       "<table border=\"1\" class=\"dataframe\">\n",
       "  <thead>\n",
       "    <tr style=\"text-align: right;\">\n",
       "      <th></th>\n",
       "      <th>sexid</th>\n",
       "      <th>clientid</th>\n",
       "      <th>(amount, sum)</th>\n",
       "      <th>(amount, mean)</th>\n",
       "      <th>(amount, max)</th>\n",
       "      <th>(d_0, sum)</th>\n",
       "      <th>(d_0, mean)</th>\n",
       "      <th>(d_0, max)</th>\n",
       "      <th>(d_1, sum)</th>\n",
       "      <th>(d_1, mean)</th>\n",
       "      <th>(d_1, max)</th>\n",
       "      <th>(d_2, sum)</th>\n",
       "      <th>(d_2, mean)</th>\n",
       "      <th>(d_2, max)</th>\n",
       "      <th>(d_3, sum)</th>\n",
       "      <th>(d_3, mean)</th>\n",
       "      <th>(d_3, max)</th>\n",
       "      <th>(d_4, sum)</th>\n",
       "      <th>(d_4, mean)</th>\n",
       "      <th>(d_4, max)</th>\n",
       "    </tr>\n",
       "  </thead>\n",
       "  <tbody>\n",
       "    <tr>\n",
       "      <th>0</th>\n",
       "      <td>True</td>\n",
       "      <td>13</td>\n",
       "      <td>409544</td>\n",
       "      <td>979.770335</td>\n",
       "      <td>980</td>\n",
       "      <td>31334</td>\n",
       "      <td>74.961722</td>\n",
       "      <td>980</td>\n",
       "      <td>45072</td>\n",
       "      <td>107.827751</td>\n",
       "      <td>980</td>\n",
       "      <td>110726</td>\n",
       "      <td>264.894737</td>\n",
       "      <td>980</td>\n",
       "      <td>126400</td>\n",
       "      <td>302.392344</td>\n",
       "      <td>980</td>\n",
       "      <td>96012</td>\n",
       "      <td>229.693780</td>\n",
       "      <td>980</td>\n",
       "    </tr>\n",
       "    <tr>\n",
       "      <th>1</th>\n",
       "      <td>True</td>\n",
       "      <td>16</td>\n",
       "      <td>52920</td>\n",
       "      <td>840.000000</td>\n",
       "      <td>840</td>\n",
       "      <td>5040</td>\n",
       "      <td>80.000000</td>\n",
       "      <td>840</td>\n",
       "      <td>2520</td>\n",
       "      <td>40.000000</td>\n",
       "      <td>840</td>\n",
       "      <td>15120</td>\n",
       "      <td>240.000000</td>\n",
       "      <td>840</td>\n",
       "      <td>10080</td>\n",
       "      <td>160.000000</td>\n",
       "      <td>840</td>\n",
       "      <td>20160</td>\n",
       "      <td>320.000000</td>\n",
       "      <td>840</td>\n",
       "    </tr>\n",
       "    <tr>\n",
       "      <th>2</th>\n",
       "      <td>True</td>\n",
       "      <td>502</td>\n",
       "      <td>158760</td>\n",
       "      <td>980.000000</td>\n",
       "      <td>980</td>\n",
       "      <td>7840</td>\n",
       "      <td>48.395062</td>\n",
       "      <td>980</td>\n",
       "      <td>25480</td>\n",
       "      <td>157.283951</td>\n",
       "      <td>980</td>\n",
       "      <td>49980</td>\n",
       "      <td>308.518519</td>\n",
       "      <td>980</td>\n",
       "      <td>34300</td>\n",
       "      <td>211.728395</td>\n",
       "      <td>980</td>\n",
       "      <td>41160</td>\n",
       "      <td>254.074074</td>\n",
       "      <td>980</td>\n",
       "    </tr>\n",
       "    <tr>\n",
       "      <th>3</th>\n",
       "      <td>False</td>\n",
       "      <td>501</td>\n",
       "      <td>21516</td>\n",
       "      <td>978.000000</td>\n",
       "      <td>978</td>\n",
       "      <td>0</td>\n",
       "      <td>0.000000</td>\n",
       "      <td>0</td>\n",
       "      <td>978</td>\n",
       "      <td>44.454545</td>\n",
       "      <td>978</td>\n",
       "      <td>3912</td>\n",
       "      <td>177.818182</td>\n",
       "      <td>978</td>\n",
       "      <td>3912</td>\n",
       "      <td>177.818182</td>\n",
       "      <td>978</td>\n",
       "      <td>12714</td>\n",
       "      <td>577.909091</td>\n",
       "      <td>978</td>\n",
       "    </tr>\n",
       "    <tr>\n",
       "      <th>4</th>\n",
       "      <td>True</td>\n",
       "      <td>505</td>\n",
       "      <td>474320</td>\n",
       "      <td>980.000000</td>\n",
       "      <td>980</td>\n",
       "      <td>25480</td>\n",
       "      <td>52.644628</td>\n",
       "      <td>980</td>\n",
       "      <td>95060</td>\n",
       "      <td>196.404959</td>\n",
       "      <td>980</td>\n",
       "      <td>93100</td>\n",
       "      <td>192.355372</td>\n",
       "      <td>980</td>\n",
       "      <td>75460</td>\n",
       "      <td>155.909091</td>\n",
       "      <td>980</td>\n",
       "      <td>185220</td>\n",
       "      <td>382.685950</td>\n",
       "      <td>980</td>\n",
       "    </tr>\n",
       "  </tbody>\n",
       "</table>\n",
       "</div>"
      ],
      "text/plain": [
       "   sexid  clientid  (amount, sum)  (amount, mean)  (amount, max)  (d_0, sum)  \\\n",
       "0   True        13         409544      979.770335            980       31334   \n",
       "1   True        16          52920      840.000000            840        5040   \n",
       "2   True       502         158760      980.000000            980        7840   \n",
       "3  False       501          21516      978.000000            978           0   \n",
       "4   True       505         474320      980.000000            980       25480   \n",
       "\n",
       "   (d_0, mean)  (d_0, max)  (d_1, sum)  (d_1, mean)  (d_1, max)  (d_2, sum)  \\\n",
       "0    74.961722         980       45072   107.827751         980      110726   \n",
       "1    80.000000         840        2520    40.000000         840       15120   \n",
       "2    48.395062         980       25480   157.283951         980       49980   \n",
       "3     0.000000           0         978    44.454545         978        3912   \n",
       "4    52.644628         980       95060   196.404959         980       93100   \n",
       "\n",
       "   (d_2, mean)  (d_2, max)  (d_3, sum)  (d_3, mean)  (d_3, max)  (d_4, sum)  \\\n",
       "0   264.894737         980      126400   302.392344         980       96012   \n",
       "1   240.000000         840       10080   160.000000         840       20160   \n",
       "2   308.518519         980       34300   211.728395         980       41160   \n",
       "3   177.818182         978        3912   177.818182         978       12714   \n",
       "4   192.355372         980       75460   155.909091         980      185220   \n",
       "\n",
       "   (d_4, mean)  (d_4, max)  \n",
       "0   229.693780         980  \n",
       "1   320.000000         840  \n",
       "2   254.074074         980  \n",
       "3   577.909091         978  \n",
       "4   382.685950         980  "
      ]
     },
     "execution_count": 244,
     "metadata": {},
     "output_type": "execute_result"
    }
   ],
   "source": [
    "user_info_new.head()"
   ]
  },
  {
   "cell_type": "code",
   "execution_count": 245,
   "metadata": {},
   "outputs": [
    {
     "name": "stdout",
     "output_type": "stream",
     "text": [
      "<class 'pandas.core.frame.DataFrame'>\n",
      "Int64Index: 2324 entries, 0 to 2323\n",
      "Data columns (total 20 columns):\n",
      "sexid             2324 non-null bool\n",
      "clientid          2324 non-null int32\n",
      "(amount, sum)     2324 non-null int32\n",
      "(amount, mean)    2324 non-null float64\n",
      "(amount, max)     2324 non-null int32\n",
      "(d_0, sum)        2324 non-null int64\n",
      "(d_0, mean)       2324 non-null float64\n",
      "(d_0, max)        2324 non-null int64\n",
      "(d_1, sum)        2324 non-null int64\n",
      "(d_1, mean)       2324 non-null float64\n",
      "(d_1, max)        2324 non-null int64\n",
      "(d_2, sum)        2324 non-null int64\n",
      "(d_2, mean)       2324 non-null float64\n",
      "(d_2, max)        2324 non-null int64\n",
      "(d_3, sum)        2324 non-null int64\n",
      "(d_3, mean)       2324 non-null float64\n",
      "(d_3, max)        2324 non-null int64\n",
      "(d_4, sum)        2324 non-null int64\n",
      "(d_4, mean)       2324 non-null float64\n",
      "(d_4, max)        2324 non-null int64\n",
      "dtypes: bool(1), float64(6), int32(3), int64(10)\n",
      "memory usage: 338.2 KB\n"
     ]
    }
   ],
   "source": [
    "user_info_new.info()"
   ]
  },
  {
   "cell_type": "code",
   "execution_count": 252,
   "metadata": {},
   "outputs": [],
   "source": [
    "train, test = train_test_split(user_info_new, test_size=0.3)\n",
    "train_X = train.loc[:, train.columns != 'sexid'] \n",
    "test_X = test.loc[:, test.columns != 'sexid']\n",
    "train_Y = train.sexid\n",
    "test_Y = test.sexid"
   ]
  },
  {
   "cell_type": "code",
   "execution_count": 247,
   "metadata": {},
   "outputs": [
    {
     "name": "stdout",
     "output_type": "stream",
     "text": [
      "fpr: [0.         0.56578947 1.        ]\n",
      "tpr: [0.         0.54314721 1.        ]\n",
      "auc: 0.48867886721880843\n",
      "             precision    recall  f1-score   support\n",
      "\n",
      "      False       0.42      0.43      0.43       304\n",
      "       True       0.55      0.54      0.55       394\n",
      "\n",
      "avg / total       0.50      0.50      0.50       698\n",
      "\n",
      "accuracy: 0.49570200573065903\n"
     ]
    },
    {
     "data": {
      "image/png": "[encoded data removed]",
      "text/plain": [
       "<Figure size 432x288 with 1 Axes>"
      ]
     },
     "metadata": {},
     "output_type": "display_data"
    }
   ],
   "source": [
    "############################\n",
    "#  DecisionTreeClassifier  #\n",
    "############################\n",
    "clf = tree.DecisionTreeClassifier()\n",
    "y_pred = clf.fit(train_X, train_Y).predict(test_X)\n",
    "\n",
    "fpr, tpr, thresholds = roc_curve(test_Y, y_pred)\n",
    "model_auc = auc(fpr, tpr)\n",
    "print('fpr:', fpr)\n",
    "print('tpr:', tpr)\n",
    "print('auc:', model_auc)\n",
    "print(classification_report(test_Y, y_pred))\n",
    "print('accuracy:', accuracy_score(test_Y, y_pred))\n",
    "build_roc_curve(fpr, tpr, model_auc)"
   ]
  },
  {
   "cell_type": "code",
   "execution_count": 248,
   "metadata": {},
   "outputs": [
    {
     "name": "stdout",
     "output_type": "stream",
     "text": [
      "fpr: [0.         0.50328947 1.        ]\n",
      "tpr: [0.         0.53299492 1.        ]\n",
      "auc: 0.5148527250868288\n",
      "             precision    recall  f1-score   support\n",
      "\n",
      "      False       0.45      0.50      0.47       304\n",
      "       True       0.58      0.53      0.55       394\n",
      "\n",
      "avg / total       0.52      0.52      0.52       698\n",
      "\n",
      "accuracy: 0.5171919770773639\n"
     ]
    },
    {
     "data": {
      "image/png": "[encoded data removed]",
      "text/plain": [
       "<Figure size 432x288 with 1 Axes>"
      ]
     },
     "metadata": {},
     "output_type": "display_data"
    }
   ],
   "source": [
    "############################\n",
    "#  RandomForestClassifier  #\n",
    "############################\n",
    "clf = ensemble.RandomForestClassifier()\n",
    "y_pred = clf.fit(train_X, train_Y).predict(test_X)\n",
    "\n",
    "fpr, tpr, thresholds = roc_curve(test_Y, y_pred)\n",
    "model_auc = auc(fpr, tpr)\n",
    "print('fpr:', fpr)\n",
    "print('tpr:', tpr)\n",
    "print('auc:', model_auc)\n",
    "print(classification_report(test_Y, y_pred))\n",
    "print('accuracy:', accuracy_score(test_Y, y_pred))\n",
    "build_roc_curve(fpr, tpr, model_auc)"
   ]
  },
  {
   "cell_type": "code",
   "execution_count": 249,
   "metadata": {},
   "outputs": [
    {
     "name": "stdout",
     "output_type": "stream",
     "text": [
      "fpr: [0.         0.65131579 1.        ]\n",
      "tpr: [0.         0.70558376 1.        ]\n",
      "auc: 0.5271339834357468\n",
      "             precision    recall  f1-score   support\n",
      "\n",
      "      False       0.48      0.35      0.40       304\n",
      "       True       0.58      0.71      0.64       394\n",
      "\n",
      "avg / total       0.54      0.55      0.54       698\n",
      "\n",
      "accuracy: 0.5501432664756447\n"
     ]
    },
    {
     "data": {
      "image/png": "[encoded data removed]",
      "text/plain": [
       "<Figure size 432x288 with 1 Axes>"
      ]
     },
     "metadata": {},
     "output_type": "display_data"
    }
   ],
   "source": [
    "########################\n",
    "#  AdaBoostClassifier  #\n",
    "########################\n",
    "clf = ensemble.AdaBoostClassifier()\n",
    "y_pred = clf.fit(train_X, train_Y).predict(test_X)\n",
    "\n",
    "fpr, tpr, thresholds = roc_curve(test_Y, y_pred)\n",
    "model_auc = auc(fpr, tpr)\n",
    "print('fpr:', fpr)\n",
    "print('tpr:', tpr)\n",
    "print('auc:', model_auc)\n",
    "print(classification_report(test_Y, y_pred))\n",
    "print('accuracy:', accuracy_score(test_Y, y_pred))\n",
    "build_roc_curve(fpr, tpr, model_auc)"
   ]
  },
  {
   "cell_type": "code",
   "execution_count": 250,
   "metadata": {},
   "outputs": [
    {
     "name": "stdout",
     "output_type": "stream",
     "text": [
      "fpr: [0.         0.68421053 1.        ]\n",
      "tpr: [0.        0.7106599 1.       ]\n",
      "auc: 0.513224686080684\n",
      "             precision    recall  f1-score   support\n",
      "\n",
      "      False       0.46      0.32      0.37       304\n",
      "       True       0.57      0.71      0.63       394\n",
      "\n",
      "avg / total       0.52      0.54      0.52       698\n",
      "\n",
      "accuracy: 0.5386819484240688\n"
     ]
    },
    {
     "data": {
      "image/png": "[encoded data removed]",
      "text/plain": [
       "<Figure size 432x288 with 1 Axes>"
      ]
     },
     "metadata": {},
     "output_type": "display_data"
    }
   ],
   "source": [
    "################################\n",
    "#  GradientBoostingClassifier  #\n",
    "################################\n",
    "clf = ensemble.GradientBoostingClassifier()\n",
    "y_pred = clf.fit(train_X, train_Y).predict(test_X)\n",
    "\n",
    "fpr, tpr, thresholds = roc_curve(test_Y, y_pred)\n",
    "model_auc = auc(fpr, tpr)\n",
    "print('fpr:', fpr)\n",
    "print('tpr:', tpr)\n",
    "print('auc:', model_auc)\n",
    "print(classification_report(test_Y, y_pred))\n",
    "print('accuracy:', accuracy_score(test_Y, y_pred))\n",
    "build_roc_curve(fpr, tpr, model_auc)"
   ]
  },
  {
   "cell_type": "code",
   "execution_count": null,
   "metadata": {},
   "outputs": [],
   "source": []
  }
 ],
 "metadata": {
  "kernelspec": {
   "display_name": "Python 3",
   "language": "python",
   "name": "python3"
  },
  "language_info": {
   "codemirror_mode": {
    "name": "ipython",
    "version": 3
   },
   "file_extension": ".py",
   "mimetype": "text/x-python",
   "name": "python",
   "nbconvert_exporter": "python",
   "pygments_lexer": "ipython3",
   "version": "3.6.5"
  }
 },
 "nbformat": 4,
 "nbformat_minor": 2
}
