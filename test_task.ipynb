{
 "cells": [
  {
   "cell_type": "code",
   "execution_count": 1,
   "metadata": {
    "collapsed": true
   },
   "outputs": [],
   "source": [
    "import pandas as pd\n",
    "import numpy as np\n",
    "from sklearn.linear_model import LogisticRegression\n",
    "from sklearn.svm import LinearSVC\n",
    "from sklearn.tree import DecisionTreeClassifier\n",
    "from sklearn.ensemble import RandomForestClassifier, GradientBoostingClassifier\n",
    "from sklearn.naive_bayes import GaussianNB,BernoulliNB\n",
    "from sklearn.metrics import classification_report, accuracy_score, roc_curve, auc\n",
    "from sklearn.model_selection import train_test_split\n",
    "import matplotlib.pyplot as plt\n",
    "%matplotlib inline\n",
    "from datetime import datetime"
   ]
  },
  {
   "cell_type": "markdown",
   "metadata": {},
   "source": [
    "For building roc curve"
   ]
  },
  {
   "cell_type": "code",
   "execution_count": 2,
   "metadata": {
    "collapsed": true
   },
   "outputs": [],
   "source": [
    "def build_roc_curve(false_positive_rate, true_positive_rate, roc_auc):\n",
    "    plt.title('Receiver Operating Characteristic')\n",
    "    plt.plot(false_positive_rate, true_positive_rate, 'b',\n",
    "    label='AUC = %0.2f'% roc_auc)\n",
    "    plt.legend(loc='lower right')\n",
    "    plt.plot([0,1],[0,1],'r--')\n",
    "    plt.xlim([-0.1,1.2])\n",
    "    plt.ylim([-0.1,1.2])\n",
    "    plt.ylabel('True Positive Rate')\n",
    "    plt.xlabel('False Positive Rate')\n",
    "    plt.show()"
   ]
  },
  {
   "cell_type": "markdown",
   "metadata": {},
   "source": [
    "Read text data from file and set one hot encoding for product category and part of day of transactions."
   ]
  },
  {
   "cell_type": "code",
   "execution_count": 3,
   "metadata": {
    "collapsed": true
   },
   "outputs": [],
   "source": [
    "def convertToDate(x):\n",
    "    return datetime.fromtimestamp(int(x))\n",
    "df = pd.read_csv('train_ds.csv',\n",
    "                   sep=',', header=0,\n",
    "                   names=['cgsettlementbufferid', 'mcc','ccy', 'tranccy', 'amount', 'location', 'trandatetime', 'sexid', 'clientid'],\n",
    "                   converters = {'trandatetime': convertToDate},\n",
    "                   dtype={'sexid': np.bool_,\n",
    "                          'cgsettlementbufferid': np.int32,\n",
    "                          'mcc': np.int32,\n",
    "                          'ccy': np.int32,\n",
    "                          'tranccy': np.int32,\n",
    "                          'amount': np.int32,\n",
    "                          'clientid': np.int32,\n",
    "                          'location': np.string_\n",
    "                         },\n",
    "                  )\n",
    "df_test = pd.read_csv('test_ds.csv',\n",
    "                   sep=',', header=0,\n",
    "                   names=['cgsettlementbufferid', 'mcc','ccy', 'tranccy', 'amount', 'location', 'trandatetime', 'clientid'],\n",
    "                   converters = {'trandatetime': convertToDate},\n",
    "                   dtype={\n",
    "                          'cgsettlementbufferid': np.int32,\n",
    "                          'mcc': np.int32,\n",
    "                          'ccy': np.int32,\n",
    "                          'tranccy': np.int32,\n",
    "                          'amount': np.int32,\n",
    "                          'clientid': np.int32,\n",
    "                          'location': np.string_\n",
    "                         },\n",
    "                  )"
   ]
  },
  {
   "cell_type": "code",
   "execution_count": 5,
   "metadata": {
    "collapsed": true
   },
   "outputs": [],
   "source": [
    "def to_date_time_encoding(x):\n",
    "    if x.hour < 9:\n",
    "        return 0\n",
    "    elif x.hour < 12:\n",
    "        return 1\n",
    "    elif x.hour < 15:\n",
    "        return 2\n",
    "    elif x.hour < 18:\n",
    "        return 3\n",
    "    else:\n",
    "        return 4\n",
    "df['Day_Time'] = df['trandatetime'].apply(to_date_time_encoding)\n",
    "df_test['Day_Time'] = df_test['trandatetime'].apply(to_date_time_encoding)"
   ]
  },
  {
   "cell_type": "code",
   "execution_count": 6,
   "metadata": {
    "collapsed": true
   },
   "outputs": [],
   "source": [
    "df['region'] = df['location'].apply(lambda x: x[-2:])\n",
    "df_test['region'] = df_test['location'].apply(lambda x: x[-2:])"
   ]
  },
  {
   "cell_type": "code",
   "execution_count": 7,
   "metadata": {
    "collapsed": true
   },
   "outputs": [],
   "source": [
    "d = pd.get_dummies(df[['Day_Time']], prefix=['d'], columns=['Day_Time'])\n",
    "d_names = list(filter(lambda x: x.startswith('d_'), d.columns.values.tolist()))\n",
    "\n",
    "r = pd.get_dummies(df[['region']], prefix=['r'], columns=['region'])\n",
    "r_names = list(filter(lambda x: x.startswith('r_'), r.columns.values.tolist()))\n",
    "\n",
    "combined = pd.concat([df[['clientid', 'amount']], d, r], axis=1)\n",
    "for name in d_names:\n",
    "    combined[name] = combined[[name, 'amount']].apply(lambda x: x[1] if x[0] == 1 else 0, axis=1)\n",
    "    \n",
    "d_test = pd.get_dummies(df_test[['Day_Time']], prefix=['d'], columns=['Day_Time'])\n",
    "\n",
    "r_test = pd.get_dummies(df_test[['region']], prefix=['r'], columns=['region'])\n",
    "r_test_names = list(filter(lambda x: x.startswith('r_'), r_test.columns.values.tolist()))\n",
    "\n",
    "combined_test = pd.concat([df_test[['clientid', 'amount']], d_test, r_test], axis=1)\n",
    "for name in d_names:\n",
    "    combined_test[name] = combined_test[[name, 'amount']].apply(lambda x: x[1] if x[0] == 1 else 0, axis=1)"
   ]
  },
  {
   "cell_type": "code",
   "execution_count": 10,
   "metadata": {
    "collapsed": true
   },
   "outputs": [],
   "source": [
    "mcc = pd.get_dummies(df[['mcc']], prefix=['mcc'], columns=['mcc'])\n",
    "mcc_names = list(filter(lambda x: x.startswith('mcc_'), mcc.columns.values.tolist()))\n",
    "\n",
    "mcc_test = pd.get_dummies(df_test[['mcc']], prefix=['mcc'], columns=['mcc'])\n",
    "mcc_test_names = list(filter(lambda x: x.startswith('mcc_'), mcc_test.columns.values.tolist()))"
   ]
  },
  {
   "cell_type": "code",
   "execution_count": 20,
   "metadata": {},
   "outputs": [],
   "source": [
    "mcc_common = list(set(mcc)&set(mcc_test))\n",
    "region_common = list(set(r_names)&set(r_test_names))"
   ]
  },
  {
   "cell_type": "code",
   "execution_count": 21,
   "metadata": {},
   "outputs": [
    {
     "name": "stdout",
     "output_type": "stream",
     "text": [
      "d_0\n",
      "d_1\n",
      "d_2\n",
      "d_3\n",
      "d_4\n"
     ]
    }
   ],
   "source": [
    "info_df = pd.concat([df[['clientid', 'amount']],mcc[mcc_common],d,r[region_common]],axis=1)\n",
    "for name in d_names:\n",
    "    print(name)\n",
    "    for m in mcc_common:\n",
    "        info_df[str(m)+'_'+str(name)]=info_df[[name,m,'amount']].apply(lambda x: x[2] if x[1] == 1 and x[0] ==1 else 0,axis=1)"
   ]
  },
  {
   "cell_type": "code",
   "execution_count": 34,
   "metadata": {},
   "outputs": [
    {
     "name": "stdout",
     "output_type": "stream",
     "text": [
      "d_0\n",
      "d_1\n",
      "d_2\n",
      "d_3\n",
      "d_4\n"
     ]
    }
   ],
   "source": [
    "info_df_test = pd.concat([df_test[['clientid', 'amount']],mcc_test[mcc_common],d_test],axis=1)\n",
    "for name in d_names:\n",
    "    print(name)\n",
    "    for m in mcc_common:\n",
    "        info_df_test[str(m)+'_'+str(name)]=info_df_test[[name,m,'amount']].apply(lambda x: x[2] if x[1] == 1 and x[0] ==1 else 0,axis=1)"
   ]
  },
  {
   "cell_type": "code",
   "execution_count": 26,
   "metadata": {},
   "outputs": [],
   "source": [
    "names = ['clientid', 'amount']\n",
    "#names_r = ['clientid', 'amount']\n",
    "\n",
    "names.extend(d_names)\n",
    "#names_r.extend(region_common)\n",
    "\n",
    "aggregation = {\n",
    "    'amount': ['sum', 'mean', 'max'],\n",
    "}\n",
    "\n",
    "for name in d_names:\n",
    "    aggregation[name] = ['sum', 'mean', 'max']\n",
    "    \n",
    "#for name in region_common:\n",
    "    #aggregation[name] = ['sum']\n",
    "\n",
    "grp = combined[names].groupby('clientid').agg(aggregation).reset_index()\n",
    "#grp_r = combined[names_r].groupby('clientid').agg(aggregation).reset_index()"
   ]
  },
  {
   "cell_type": "code",
   "execution_count": 36,
   "metadata": {},
   "outputs": [],
   "source": [
    "names_test = ['clientid', 'amount']\n",
    "#names_r_test = ['clientid', 'amount']\n",
    "\n",
    "names_test.extend(d_names)\n",
    "#names_r_test.extend(region_common)\n",
    "\n",
    "aggregation = {\n",
    "    'amount': ['sum', 'mean', 'max'],\n",
    "}\n",
    "\n",
    "for name in d_names:\n",
    "    aggregation[name] = ['sum', 'mean', 'max']\n",
    "    \n",
    "#for name in region_common:\n",
    "    #aggregation[name] = ['sum']\n",
    "\n",
    "grp_test = combined_test[names_test].groupby('clientid').agg(aggregation).reset_index()\n",
    "#grp_r_test = combined_test[names_test].groupby('clientid').agg(aggregation).reset_index()"
   ]
  },
  {
   "cell_type": "code",
   "execution_count": 27,
   "metadata": {
    "collapsed": true
   },
   "outputs": [],
   "source": [
    "user_info = df.drop_duplicates('clientid')[['sexid', 'clientid']]\n",
    "#user_info_test = df_test.drop_duplicates('clientid')[['clientid']]"
   ]
  },
  {
   "cell_type": "code",
   "execution_count": 38,
   "metadata": {
    "collapsed": true
   },
   "outputs": [],
   "source": [
    "user_info_test = df_test.drop_duplicates('clientid')[['clientid']]"
   ]
  },
  {
   "cell_type": "code",
   "execution_count": 28,
   "metadata": {},
   "outputs": [
    {
     "name": "stderr",
     "output_type": "stream",
     "text": [
      "/anaconda/lib/python3.6/site-packages/pandas/core/reshape/merge.py:551: UserWarning: merging between different levels can give an unintended result (1 levels on the left, 2 on the right)\n",
      "  warnings.warn(msg, UserWarning)\n",
      "/anaconda/lib/python3.6/site-packages/pandas/core/reshape/merge.py:862: PerformanceWarning: dropping on a non-lexsorted multi-index without a level parameter may impact performance.\n",
      "  self.right = self.right.drop(right_drop, axis=1)\n"
     ]
    },
    {
     "data": {
      "text/html": [
       "<div>\n",
       "<style>\n",
       "    .dataframe thead tr:only-child th {\n",
       "        text-align: right;\n",
       "    }\n",
       "\n",
       "    .dataframe thead th {\n",
       "        text-align: left;\n",
       "    }\n",
       "\n",
       "    .dataframe tbody tr th {\n",
       "        vertical-align: top;\n",
       "    }\n",
       "</style>\n",
       "<table border=\"1\" class=\"dataframe\">\n",
       "  <thead>\n",
       "    <tr style=\"text-align: right;\">\n",
       "      <th></th>\n",
       "      <th>sexid</th>\n",
       "      <th>clientid</th>\n",
       "      <th>amount</th>\n",
       "      <th>mcc_5422</th>\n",
       "      <th>mcc_5814</th>\n",
       "      <th>mcc_5950</th>\n",
       "      <th>mcc_5199</th>\n",
       "      <th>mcc_5734</th>\n",
       "      <th>mcc_5541</th>\n",
       "      <th>mcc_8071</th>\n",
       "      <th>...</th>\n",
       "      <th>(d_1, max)</th>\n",
       "      <th>(d_2, sum)</th>\n",
       "      <th>(d_2, mean)</th>\n",
       "      <th>(d_2, max)</th>\n",
       "      <th>(d_3, sum)</th>\n",
       "      <th>(d_3, mean)</th>\n",
       "      <th>(d_3, max)</th>\n",
       "      <th>(d_4, sum)</th>\n",
       "      <th>(d_4, mean)</th>\n",
       "      <th>(d_4, max)</th>\n",
       "    </tr>\n",
       "  </thead>\n",
       "  <tbody>\n",
       "    <tr>\n",
       "      <th>0</th>\n",
       "      <td>True</td>\n",
       "      <td>13</td>\n",
       "      <td>6730</td>\n",
       "      <td>0</td>\n",
       "      <td>0</td>\n",
       "      <td>0</td>\n",
       "      <td>0</td>\n",
       "      <td>0</td>\n",
       "      <td>0</td>\n",
       "      <td>0</td>\n",
       "      <td>...</td>\n",
       "      <td>361550</td>\n",
       "      <td>10630469</td>\n",
       "      <td>25431.744019</td>\n",
       "      <td>1824211</td>\n",
       "      <td>10805724</td>\n",
       "      <td>25851.014354</td>\n",
       "      <td>1272130</td>\n",
       "      <td>6741051</td>\n",
       "      <td>16126.916268</td>\n",
       "      <td>622949</td>\n",
       "    </tr>\n",
       "    <tr>\n",
       "      <th>1</th>\n",
       "      <td>True</td>\n",
       "      <td>13</td>\n",
       "      <td>55912</td>\n",
       "      <td>0</td>\n",
       "      <td>0</td>\n",
       "      <td>0</td>\n",
       "      <td>0</td>\n",
       "      <td>0</td>\n",
       "      <td>0</td>\n",
       "      <td>0</td>\n",
       "      <td>...</td>\n",
       "      <td>361550</td>\n",
       "      <td>10630469</td>\n",
       "      <td>25431.744019</td>\n",
       "      <td>1824211</td>\n",
       "      <td>10805724</td>\n",
       "      <td>25851.014354</td>\n",
       "      <td>1272130</td>\n",
       "      <td>6741051</td>\n",
       "      <td>16126.916268</td>\n",
       "      <td>622949</td>\n",
       "    </tr>\n",
       "    <tr>\n",
       "      <th>2</th>\n",
       "      <td>True</td>\n",
       "      <td>13</td>\n",
       "      <td>135658</td>\n",
       "      <td>0</td>\n",
       "      <td>0</td>\n",
       "      <td>0</td>\n",
       "      <td>0</td>\n",
       "      <td>0</td>\n",
       "      <td>0</td>\n",
       "      <td>0</td>\n",
       "      <td>...</td>\n",
       "      <td>361550</td>\n",
       "      <td>10630469</td>\n",
       "      <td>25431.744019</td>\n",
       "      <td>1824211</td>\n",
       "      <td>10805724</td>\n",
       "      <td>25851.014354</td>\n",
       "      <td>1272130</td>\n",
       "      <td>6741051</td>\n",
       "      <td>16126.916268</td>\n",
       "      <td>622949</td>\n",
       "    </tr>\n",
       "    <tr>\n",
       "      <th>3</th>\n",
       "      <td>True</td>\n",
       "      <td>13</td>\n",
       "      <td>138294</td>\n",
       "      <td>0</td>\n",
       "      <td>0</td>\n",
       "      <td>0</td>\n",
       "      <td>0</td>\n",
       "      <td>0</td>\n",
       "      <td>0</td>\n",
       "      <td>0</td>\n",
       "      <td>...</td>\n",
       "      <td>361550</td>\n",
       "      <td>10630469</td>\n",
       "      <td>25431.744019</td>\n",
       "      <td>1824211</td>\n",
       "      <td>10805724</td>\n",
       "      <td>25851.014354</td>\n",
       "      <td>1272130</td>\n",
       "      <td>6741051</td>\n",
       "      <td>16126.916268</td>\n",
       "      <td>622949</td>\n",
       "    </tr>\n",
       "    <tr>\n",
       "      <th>4</th>\n",
       "      <td>True</td>\n",
       "      <td>13</td>\n",
       "      <td>426209</td>\n",
       "      <td>0</td>\n",
       "      <td>0</td>\n",
       "      <td>0</td>\n",
       "      <td>0</td>\n",
       "      <td>0</td>\n",
       "      <td>0</td>\n",
       "      <td>0</td>\n",
       "      <td>...</td>\n",
       "      <td>361550</td>\n",
       "      <td>10630469</td>\n",
       "      <td>25431.744019</td>\n",
       "      <td>1824211</td>\n",
       "      <td>10805724</td>\n",
       "      <td>25851.014354</td>\n",
       "      <td>1272130</td>\n",
       "      <td>6741051</td>\n",
       "      <td>16126.916268</td>\n",
       "      <td>622949</td>\n",
       "    </tr>\n",
       "  </tbody>\n",
       "</table>\n",
       "<p>5 rows × 1308 columns</p>\n",
       "</div>"
      ],
      "text/plain": [
       "   sexid  clientid  amount  mcc_5422  mcc_5814  mcc_5950  mcc_5199  mcc_5734  \\\n",
       "0   True        13    6730         0         0         0         0         0   \n",
       "1   True        13   55912         0         0         0         0         0   \n",
       "2   True        13  135658         0         0         0         0         0   \n",
       "3   True        13  138294         0         0         0         0         0   \n",
       "4   True        13  426209         0         0         0         0         0   \n",
       "\n",
       "   mcc_5541  mcc_8071     ...      (d_1, max)  (d_2, sum)   (d_2, mean)  \\\n",
       "0         0         0     ...          361550    10630469  25431.744019   \n",
       "1         0         0     ...          361550    10630469  25431.744019   \n",
       "2         0         0     ...          361550    10630469  25431.744019   \n",
       "3         0         0     ...          361550    10630469  25431.744019   \n",
       "4         0         0     ...          361550    10630469  25431.744019   \n",
       "\n",
       "   (d_2, max)  (d_3, sum)   (d_3, mean)  (d_3, max)  (d_4, sum)   (d_4, mean)  \\\n",
       "0     1824211    10805724  25851.014354     1272130     6741051  16126.916268   \n",
       "1     1824211    10805724  25851.014354     1272130     6741051  16126.916268   \n",
       "2     1824211    10805724  25851.014354     1272130     6741051  16126.916268   \n",
       "3     1824211    10805724  25851.014354     1272130     6741051  16126.916268   \n",
       "4     1824211    10805724  25851.014354     1272130     6741051  16126.916268   \n",
       "\n",
       "   (d_4, max)  \n",
       "0      622949  \n",
       "1      622949  \n",
       "2      622949  \n",
       "3      622949  \n",
       "4      622949  \n",
       "\n",
       "[5 rows x 1308 columns]"
      ]
     },
     "execution_count": 28,
     "metadata": {},
     "output_type": "execute_result"
    }
   ],
   "source": [
    "user_info_new = pd.merge(user_info, info_df, on=['clientid', 'clientid'], how='right')\n",
    "user_info_new = pd.merge(user_info_new, grp, on=['clientid', 'clientid'], how='right')\n",
    "user_info_new.head()"
   ]
  },
  {
   "cell_type": "code",
   "execution_count": 39,
   "metadata": {},
   "outputs": [
    {
     "name": "stderr",
     "output_type": "stream",
     "text": [
      "/anaconda/lib/python3.6/site-packages/pandas/core/reshape/merge.py:551: UserWarning: merging between different levels can give an unintended result (1 levels on the left, 2 on the right)\n",
      "  warnings.warn(msg, UserWarning)\n",
      "/anaconda/lib/python3.6/site-packages/pandas/core/reshape/merge.py:862: PerformanceWarning: dropping on a non-lexsorted multi-index without a level parameter may impact performance.\n",
      "  self.right = self.right.drop(right_drop, axis=1)\n"
     ]
    },
    {
     "data": {
      "text/html": [
       "<div>\n",
       "<style>\n",
       "    .dataframe thead tr:only-child th {\n",
       "        text-align: right;\n",
       "    }\n",
       "\n",
       "    .dataframe thead th {\n",
       "        text-align: left;\n",
       "    }\n",
       "\n",
       "    .dataframe tbody tr th {\n",
       "        vertical-align: top;\n",
       "    }\n",
       "</style>\n",
       "<table border=\"1\" class=\"dataframe\">\n",
       "  <thead>\n",
       "    <tr style=\"text-align: right;\">\n",
       "      <th></th>\n",
       "      <th>clientid</th>\n",
       "      <th>amount</th>\n",
       "      <th>mcc_5422</th>\n",
       "      <th>mcc_5814</th>\n",
       "      <th>mcc_5950</th>\n",
       "      <th>mcc_5199</th>\n",
       "      <th>mcc_5734</th>\n",
       "      <th>mcc_5541</th>\n",
       "      <th>mcc_8071</th>\n",
       "      <th>mcc_7995</th>\n",
       "      <th>...</th>\n",
       "      <th>(d_1, max)</th>\n",
       "      <th>(d_2, sum)</th>\n",
       "      <th>(d_2, mean)</th>\n",
       "      <th>(d_2, max)</th>\n",
       "      <th>(d_3, sum)</th>\n",
       "      <th>(d_3, mean)</th>\n",
       "      <th>(d_3, max)</th>\n",
       "      <th>(d_4, sum)</th>\n",
       "      <th>(d_4, mean)</th>\n",
       "      <th>(d_4, max)</th>\n",
       "    </tr>\n",
       "  </thead>\n",
       "  <tbody>\n",
       "    <tr>\n",
       "      <th>0</th>\n",
       "      <td>712</td>\n",
       "      <td>7488</td>\n",
       "      <td>0</td>\n",
       "      <td>0</td>\n",
       "      <td>0</td>\n",
       "      <td>0</td>\n",
       "      <td>0</td>\n",
       "      <td>0</td>\n",
       "      <td>0</td>\n",
       "      <td>0</td>\n",
       "      <td>...</td>\n",
       "      <td>1461900</td>\n",
       "      <td>12862225</td>\n",
       "      <td>15422.332134</td>\n",
       "      <td>1629964</td>\n",
       "      <td>21811353</td>\n",
       "      <td>26152.701439</td>\n",
       "      <td>1500000</td>\n",
       "      <td>42138642</td>\n",
       "      <td>50525.94964</td>\n",
       "      <td>12000000</td>\n",
       "    </tr>\n",
       "    <tr>\n",
       "      <th>1</th>\n",
       "      <td>712</td>\n",
       "      <td>20614</td>\n",
       "      <td>0</td>\n",
       "      <td>0</td>\n",
       "      <td>0</td>\n",
       "      <td>0</td>\n",
       "      <td>0</td>\n",
       "      <td>0</td>\n",
       "      <td>0</td>\n",
       "      <td>0</td>\n",
       "      <td>...</td>\n",
       "      <td>1461900</td>\n",
       "      <td>12862225</td>\n",
       "      <td>15422.332134</td>\n",
       "      <td>1629964</td>\n",
       "      <td>21811353</td>\n",
       "      <td>26152.701439</td>\n",
       "      <td>1500000</td>\n",
       "      <td>42138642</td>\n",
       "      <td>50525.94964</td>\n",
       "      <td>12000000</td>\n",
       "    </tr>\n",
       "    <tr>\n",
       "      <th>2</th>\n",
       "      <td>712</td>\n",
       "      <td>79200</td>\n",
       "      <td>0</td>\n",
       "      <td>0</td>\n",
       "      <td>0</td>\n",
       "      <td>0</td>\n",
       "      <td>0</td>\n",
       "      <td>0</td>\n",
       "      <td>0</td>\n",
       "      <td>0</td>\n",
       "      <td>...</td>\n",
       "      <td>1461900</td>\n",
       "      <td>12862225</td>\n",
       "      <td>15422.332134</td>\n",
       "      <td>1629964</td>\n",
       "      <td>21811353</td>\n",
       "      <td>26152.701439</td>\n",
       "      <td>1500000</td>\n",
       "      <td>42138642</td>\n",
       "      <td>50525.94964</td>\n",
       "      <td>12000000</td>\n",
       "    </tr>\n",
       "    <tr>\n",
       "      <th>3</th>\n",
       "      <td>712</td>\n",
       "      <td>12058</td>\n",
       "      <td>0</td>\n",
       "      <td>0</td>\n",
       "      <td>0</td>\n",
       "      <td>0</td>\n",
       "      <td>0</td>\n",
       "      <td>0</td>\n",
       "      <td>0</td>\n",
       "      <td>0</td>\n",
       "      <td>...</td>\n",
       "      <td>1461900</td>\n",
       "      <td>12862225</td>\n",
       "      <td>15422.332134</td>\n",
       "      <td>1629964</td>\n",
       "      <td>21811353</td>\n",
       "      <td>26152.701439</td>\n",
       "      <td>1500000</td>\n",
       "      <td>42138642</td>\n",
       "      <td>50525.94964</td>\n",
       "      <td>12000000</td>\n",
       "    </tr>\n",
       "    <tr>\n",
       "      <th>4</th>\n",
       "      <td>712</td>\n",
       "      <td>5652</td>\n",
       "      <td>0</td>\n",
       "      <td>0</td>\n",
       "      <td>0</td>\n",
       "      <td>0</td>\n",
       "      <td>0</td>\n",
       "      <td>0</td>\n",
       "      <td>0</td>\n",
       "      <td>0</td>\n",
       "      <td>...</td>\n",
       "      <td>1461900</td>\n",
       "      <td>12862225</td>\n",
       "      <td>15422.332134</td>\n",
       "      <td>1629964</td>\n",
       "      <td>21811353</td>\n",
       "      <td>26152.701439</td>\n",
       "      <td>1500000</td>\n",
       "      <td>42138642</td>\n",
       "      <td>50525.94964</td>\n",
       "      <td>12000000</td>\n",
       "    </tr>\n",
       "  </tbody>\n",
       "</table>\n",
       "<p>5 rows × 1225 columns</p>\n",
       "</div>"
      ],
      "text/plain": [
       "   clientid  amount  mcc_5422  mcc_5814  mcc_5950  mcc_5199  mcc_5734  \\\n",
       "0       712    7488         0         0         0         0         0   \n",
       "1       712   20614         0         0         0         0         0   \n",
       "2       712   79200         0         0         0         0         0   \n",
       "3       712   12058         0         0         0         0         0   \n",
       "4       712    5652         0         0         0         0         0   \n",
       "\n",
       "   mcc_5541  mcc_8071  mcc_7995     ...      (d_1, max)  (d_2, sum)  \\\n",
       "0         0         0         0     ...         1461900    12862225   \n",
       "1         0         0         0     ...         1461900    12862225   \n",
       "2         0         0         0     ...         1461900    12862225   \n",
       "3         0         0         0     ...         1461900    12862225   \n",
       "4         0         0         0     ...         1461900    12862225   \n",
       "\n",
       "    (d_2, mean)  (d_2, max)  (d_3, sum)   (d_3, mean)  (d_3, max)  (d_4, sum)  \\\n",
       "0  15422.332134     1629964    21811353  26152.701439     1500000    42138642   \n",
       "1  15422.332134     1629964    21811353  26152.701439     1500000    42138642   \n",
       "2  15422.332134     1629964    21811353  26152.701439     1500000    42138642   \n",
       "3  15422.332134     1629964    21811353  26152.701439     1500000    42138642   \n",
       "4  15422.332134     1629964    21811353  26152.701439     1500000    42138642   \n",
       "\n",
       "   (d_4, mean)  (d_4, max)  \n",
       "0  50525.94964    12000000  \n",
       "1  50525.94964    12000000  \n",
       "2  50525.94964    12000000  \n",
       "3  50525.94964    12000000  \n",
       "4  50525.94964    12000000  \n",
       "\n",
       "[5 rows x 1225 columns]"
      ]
     },
     "execution_count": 39,
     "metadata": {},
     "output_type": "execute_result"
    }
   ],
   "source": [
    "user_info_new_test = pd.merge(user_info_test, info_df_test, on=['clientid', 'clientid'], how='right')\n",
    "user_info_new_test = pd.merge(user_info_new_test, grp_test, on=['clientid', 'clientid'], how='right')\n",
    "user_info_new_test.head()"
   ]
  },
  {
   "cell_type": "code",
   "execution_count": 65,
   "metadata": {},
   "outputs": [
    {
     "data": {
      "text/plain": [
       "1225"
      ]
     },
     "execution_count": 65,
     "metadata": {},
     "output_type": "execute_result"
    }
   ],
   "source": [
    "user_info_new = user_info_new.drop(r[region_common],axis=1)"
   ]
  },
  {
   "cell_type": "code",
   "execution_count": 92,
   "metadata": {},
   "outputs": [],
   "source": [
    "train, test = train_test_split(user_info_new, test_size=0.3)\n",
    "train_X = train.loc[:, train.columns != 'sexid'].groupby('clientid').mean() \n",
    "test_X = test.loc[:, test.columns != 'sexid'].groupby('clientid').mean()\n",
    "train_Y = train.groupby('clientid').mean().sexid\n",
    "test_Y = test.groupby('clientid').mean().sexid"
   ]
  },
  {
   "cell_type": "markdown",
   "metadata": {},
   "source": [
    "# Random Forest"
   ]
  },
  {
   "cell_type": "code",
   "execution_count": 144,
   "metadata": {},
   "outputs": [
    {
     "name": "stdout",
     "output_type": "stream",
     "text": [
      "fpr: [ 0.          0.40713407  1.        ]\n",
      "tpr: [ 0.          0.88930233  1.        ]\n",
      "auc: 0.74108412712\n",
      "             precision    recall  f1-score   support\n",
      "\n",
      "      False       0.80      0.59      0.68       813\n",
      "       True       0.74      0.89      0.81      1075\n",
      "\n",
      "avg / total       0.77      0.76      0.75      1888\n",
      "\n",
      "accuracy: 0.761652542373\n"
     ]
    },
    {
     "data": {
      "image/png": "[encoded data removed]",
      "text/plain": [
       "<matplotlib.figure.Figure at 0x10f048470>"
      ]
     },
     "metadata": {},
     "output_type": "display_data"
    }
   ],
   "source": [
    "\n",
    "clf = RandomForestClassifier(n_estimators=400, min_samples_split=5,n_jobs=-1)\n",
    "y_pred = clf.fit(train_X, train_Y).predict(test_X)\n",
    "\n",
    "fpr, tpr, thresholds = roc_curve(test_Y, y_pred)\n",
    "model_auc = auc(fpr, tpr)\n",
    "print('fpr:', fpr)\n",
    "print('tpr:', tpr)\n",
    "print('auc:', model_auc)\n",
    "print(classification_report(test_Y, y_pred))\n",
    "print('accuracy:', accuracy_score(test_Y, y_pred))\n",
    "build_roc_curve(fpr, tpr, model_auc)"
   ]
  },
  {
   "cell_type": "code",
   "execution_count": 145,
   "metadata": {},
   "outputs": [
    {
     "data": {
      "text/plain": [
       "array([ 0.02902023,  0.00014018,  0.00289697, ...,  0.0196201 ,\n",
       "        0.01927803,  0.01842503])"
      ]
     },
     "execution_count": 145,
     "metadata": {},
     "output_type": "execute_result"
    }
   ],
   "source": [
    "clf.feature_importances_"
   ]
  },
  {
   "cell_type": "code",
   "execution_count": 146,
   "metadata": {},
   "outputs": [],
   "source": [
    "prediction_test = clf.predict(user_info_new_test.groupby('clientid').mean())"
   ]
  },
  {
   "cell_type": "code",
   "execution_count": 147,
   "metadata": {},
   "outputs": [],
   "source": [
    "res_df = pd.DataFrame({'clientid':user_info_new_test.groupby('clientid')['clientid'].mean(),'sexid':prediction_test})\n",
    "res_df['sexid'] = res_df['sexid'].apply(lambda x: 1 if x else 0)\n",
    "res_df.to_csv('result.csv',sep=',',columns=['sexid'])"
   ]
  },
  {
   "cell_type": "markdown",
   "metadata": {},
   "source": [
    "# Gradient Boosting"
   ]
  },
  {
   "cell_type": "code",
   "execution_count": 105,
   "metadata": {},
   "outputs": [
    {
     "name": "stdout",
     "output_type": "stream",
     "text": [
      "fpr: [ 0.          0.50307503  1.        ]\n",
      "tpr: [ 0.         0.8055814  1.       ]\n",
      "auc: 0.651253182299\n",
      "             precision    recall  f1-score   support\n",
      "\n",
      "      False       0.66      0.50      0.57       813\n",
      "       True       0.68      0.81      0.74      1075\n",
      "\n",
      "avg / total       0.67      0.67      0.66      1888\n",
      "\n",
      "accuracy: 0.672669491525\n"
     ]
    },
    {
     "data": {
      "image/png": "[encoded data removed]",
      "text/plain": [
       "<matplotlib.figure.Figure at 0x10fd616a0>"
      ]
     },
     "metadata": {},
     "output_type": "display_data"
    }
   ],
   "source": [
    "clf_b = GradientBoostingClassifier()\n",
    "y_pred = clf_b.fit(train_X, train_Y).predict(test_X)\n",
    "\n",
    "fpr, tpr, thresholds = roc_curve(test_Y, y_pred)\n",
    "model_auc = auc(fpr, tpr)\n",
    "print('fpr:', fpr)\n",
    "print('tpr:', tpr)\n",
    "print('auc:', model_auc)\n",
    "print(classification_report(test_Y, y_pred))\n",
    "print('accuracy:', accuracy_score(test_Y, y_pred))\n",
    "build_roc_curve(fpr, tpr, model_auc)"
   ]
  },
  {
   "cell_type": "markdown",
   "metadata": {},
   "source": [
    "# Test example"
   ]
  },
  {
   "cell_type": "markdown",
   "metadata": {},
   "source": [
    "##### Second task"
   ]
  },
  {
   "cell_type": "code",
   "execution_count": 155,
   "metadata": {},
   "outputs": [
    {
     "name": "stdout",
     "output_type": "stream",
     "text": [
      "(2015, 7, 6, 22, 57, 59, 'GMT+3') 5273\n",
      "===============================\n",
      "+++++++++++++++++++++++++++++++\n",
      "(2015, 7, 6, 19, 27, 53, 'GMT+3') 2164\n",
      "===============================\n",
      "WWW.WIZZAIR.COM        KIEV           UA (2015, 2, 8, 16, 41, 32, 'GMT+2') 2164\n",
      "WWW.WIZZAIR.COM        KIEV           UA (2015, 2, 8, 0, 0, 0, 'GMT+2') 2164\n",
      "LUFTHANSA   22081903964KIEV           UA (2015, 3, 28, 14, 48, 55, 'GMT+2') 2164\n",
      "WIZZ AIR HUN920WZZP9KVJBUDAPEST       HU (2015, 5, 29, 0, 57, 8, 'GMT+3') 2164\n",
      "+++++++++++++++++++++++++++++++\n",
      "(2015, 7, 6, 21, 37, 51, 'GMT+3') 6617\n",
      "===============================\n",
      "+++++++++++++++++++++++++++++++\n",
      "(2015, 7, 6, 22, 46, 51, 'GMT+3') 5293\n",
      "===============================\n",
      "+++++++++++++++++++++++++++++++\n",
      "(2015, 7, 6, 21, 55, 37, 'GMT+3') 6655\n",
      "===============================\n",
      "+++++++++++++++++++++++++++++++\n",
      "(2015, 7, 6, 20, 6, 0, 'GMT+3') 6474\n",
      "===============================\n",
      "+++++++++++++++++++++++++++++++\n",
      "[]\n",
      "John Dow's id: 2164 and he bought tikets in WIZZ AIR HUN920WZZP9KVJ BUDAPEST HU, so he lives in Hungary Budapest\n"
     ]
    }
   ],
   "source": [
    "from DateTime import DateTime\n",
    "x = DateTime('2015/7/6 00:01am EET').timeTime()\n",
    "y = DateTime('2015/7/6 11:59pm EET').timeTime()\n",
    "june = DateTime('2015/6/1 00:01pm EET').timeTime()\n",
    "june_end = DateTime('2015/6/30 11:59pm EET').timeTime()\n",
    "start = DateTime('2015/7/1 00:01am EET').timeTime()\n",
    "file = pd.read_csv('train_ds.csv',sep = ',')\n",
    "file_val = file.values\n",
    "fl = 0 \n",
    "users = []\n",
    "for i in file_val:\n",
    "    if i[6]>x and i[6]<y and DateTime(i[6]).parts()[3]>17 and ('KIYEV' in i[5] or 'KYIV' in i[5] or 'KUIV' in i[5]) and i[1]==5812:\n",
    "        print(DateTime(i[6]).parts(),i[8])\n",
    "        fl = 0\n",
    "        print('===============================')\n",
    "        for j in file.loc[file['clientid']==i[8]].values:\n",
    "            #if 'UA' not in j[5]:\n",
    "                #print( j[5], DateTime(j[6]).parts(), j[1])\n",
    "            #print(j[5],DateTime(j[6]).parts())\n",
    "            if (j[1]==4511 or (j[1]>=3000 and j[1]<=3299)):#j[6]<start:\n",
    "                print( j[5], DateTime(j[6]).parts(), j[8])\n",
    "                fl = 1\n",
    "        if fl == 1:\n",
    "            for j in file.loc[file['clientid']==i[8]].values:\n",
    "                if 'UA' in j[5] and j[6]>june and j[6]<june_end:\n",
    "                    #print(DateTime(j[6]).parts(), j[8], j[5],j[4],j[3],j[2])\n",
    "                    fl=0\n",
    "            if fl==1:\n",
    "                users.append(i[8])\n",
    "        \n",
    "        print('+++++++++++++++++++++++++++++++')\n",
    "print(users)\n",
    "print(\"John Dow's id: 2164 and he bought tikets in WIZZ AIR HUN920WZZP9KVJ BUDAPEST HU, so he lives in Hungary Budapest\")"
   ]
  },
  {
   "cell_type": "code",
   "execution_count": null,
   "metadata": {
    "collapsed": true
   },
   "outputs": [],
   "source": []
  }
 ],
 "metadata": {
  "kernelspec": {
   "display_name": "Python 3",
   "language": "python",
   "name": "python3"
  },
  "language_info": {
   "codemirror_mode": {
    "name": "ipython",
    "version": 3
   },
   "file_extension": ".py",
   "mimetype": "text/x-python",
   "name": "python",
   "nbconvert_exporter": "python",
   "pygments_lexer": "ipython3",
   "version": "3.6.1"
  }
 },
 "nbformat": 4,
 "nbformat_minor": 2
}
